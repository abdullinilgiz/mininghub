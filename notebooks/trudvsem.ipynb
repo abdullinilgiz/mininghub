{
 "cells": [
  {
   "cell_type": "code",
   "execution_count": 47,
   "metadata": {},
   "outputs": [],
   "source": [
    "import requests\n",
    "import json\n",
    "\n",
    "import pprint as pp"
   ]
  },
  {
   "cell_type": "code",
   "execution_count": null,
   "metadata": {},
   "outputs": [],
   "source": [
    "response = requests.get('http://opendata.trudvsem.ru/api/v1/vacancies?offset=1&limit=100')"
   ]
  },
  {
   "cell_type": "code",
   "execution_count": null,
   "metadata": {},
   "outputs": [],
   "source": [
    "vacancies = response.json()\n",
    "vacancies = vacancies['results']['vacancies']\n",
    "pp.pprint(vacancies[0])"
   ]
  },
  {
   "cell_type": "code",
   "execution_count": null,
   "metadata": {},
   "outputs": [],
   "source": [
    "def get_features(response):\n",
    "    result = []\n",
    "    vacancies = response.json()\n",
    "    vacancies = vacancies['results']['vacancies']\n",
    "    for vacancy in vacancies:\n",
    "        vac = vacancy['vacancy']\n",
    "        result.append({\n",
    "            'job-name': vac['job-name'],\n",
    "            'schedule': vac['schedule'],\n",
    "            'employment': vac['employment'],\n",
    "            'education': vac['requirement']['education'],\n",
    "            'experience': vac['requirement']['experience'],\n",
    "            'location': vac['addresses']['address'][0]['location'].split(\n",
    "                ',')[0],\n",
    "            'salary_max': vac['salary_max'],\n",
    "            'salary_min': vac['salary_min'],\n",
    "        })\n",
    "    return result"
   ]
  },
  {
   "cell_type": "code",
   "execution_count": null,
   "metadata": {},
   "outputs": [
    {
     "data": {
      "text/plain": [
       "{'job-name': 'Начальник района тепловых сетей',\n",
       " 'schedule': 'Полный рабочий день',\n",
       " 'employment': 'Полная занятость',\n",
       " 'education': 'Высшее',\n",
       " 'experience': 0,\n",
       " 'location': 'Курская область',\n",
       " 'salary_max': 0,\n",
       " 'salary_min': 42000}"
      ]
     },
     "execution_count": 31,
     "metadata": {},
     "output_type": "execute_result"
    }
   ],
   "source": [
    "vacancies = get_features(response)\n",
    "vacancies[0]"
   ]
  },
  {
   "cell_type": "code",
   "execution_count": 84,
   "metadata": {},
   "outputs": [],
   "source": [
    "import pandas as pd\n",
    "\n",
    "dataset = pd.DataFrame(columns=[\n",
    "    'job-name',\n",
    "    'schedule',\n",
    "    'employment',\n",
    "    'education',\n",
    "    'experience',\n",
    "    'location',\n",
    "    'salary_max',\n",
    "    'salary_min'])"
   ]
  },
  {
   "cell_type": "code",
   "execution_count": null,
   "metadata": {},
   "outputs": [],
   "source": [
    "import time\n",
    "\n",
    "for offset in range(1, 5000):\n",
    "    print(offset)\n",
    "    response = requests.get(f'http://opendata.trudvsem.ru/api/v1/vacancies?offset={offset * 3}&limit=3')\n",
    "    vacancies = get_features(response)\n",
    "    new_data = pd.DataFrame(vacancies)\n",
    "    dataset = pd.concat([dataset, new_data], axis=0)"
   ]
  },
  {
   "cell_type": "code",
   "execution_count": 86,
   "metadata": {},
   "outputs": [
    {
     "data": {
      "text/plain": [
       "{'status': '500',\n",
       " 'request': {'api': 'v1'},\n",
       " 'meta': {'error': 'Сильно превышено максимальное количество запрашиваемых записей'}}"
      ]
     },
     "execution_count": 86,
     "metadata": {},
     "output_type": "execute_result"
    }
   ],
   "source": [
    "response.json()"
   ]
  },
  {
   "cell_type": "code",
   "execution_count": 87,
   "metadata": {},
   "outputs": [],
   "source": [
    "dataset.to_csv('../data/3000vac.csv')"
   ]
  }
 ],
 "metadata": {
  "kernelspec": {
   "display_name": "venv",
   "language": "python",
   "name": "python3"
  },
  "language_info": {
   "codemirror_mode": {
    "name": "ipython",
    "version": 3
   },
   "file_extension": ".py",
   "mimetype": "text/x-python",
   "name": "python",
   "nbconvert_exporter": "python",
   "pygments_lexer": "ipython3",
   "version": "3.10.12"
  }
 },
 "nbformat": 4,
 "nbformat_minor": 2
}
